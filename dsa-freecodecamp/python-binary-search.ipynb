{
 "cells": [
  {
   "cell_type": "markdown",
   "metadata": {},
   "source": [
    "## Python Binary Search"
   ]
  },
  {
   "cell_type": "markdown",
   "metadata": {},
   "source": [
    "In this notebook, we focus on solving the following problem.\n",
    "\n",
    "> **QUESTION 1:** Alice has some cards with numbers written on them. She arranges the cards in decreasing order, and lays them out face down in a sequenceon on a table. She challenges Bob to pick out the card containing a given number by turning over as few cards as possible. write a function to help Bob locate the card."
   ]
  },
  {
   "cell_type": "markdown",
   "metadata": {},
   "source": [
    "### Method\n",
    "\n",
    "Here's a systematic strategy for solving problems.\n",
    "1. State the problem clearly. Identify the input and output formats.\n",
    "2. Come up with some example inputs and outputs. Try to cover all edge cases.\n",
    "3. Come up with a correct solution to the problem. State in plain English.\n",
    "4. Implement the solution and test it using example imputs.\n",
    "5. Analyze the algorithm's complexity and identify inefficiencies, if any.\n",
    "6. Apply the right technique to overcome the inefficiency.\n"
   ]
  },
  {
   "cell_type": "markdown",
   "metadata": {},
   "source": [
    "### Solution"
   ]
  },
  {
   "cell_type": "code",
   "execution_count": null,
   "metadata": {},
   "outputs": [],
   "source": [
    "# Problem\n",
    "# We need to write a program to find the position of a given number in a list of numbers arranged in decreasing order.\n",
    "# We also need to minimize the number of times we access elements from the list.\n",
    "\n",
    "## Input\n",
    "# cards: A list of numbers sorted in descending order.\n",
    "# query: A number, whose position in the array is to be determined.\n",
    "\n",
    "## Output\n",
    "# position: The position of query in the list cards.\n"
   ]
  },
  {
   "cell_type": "code",
   "execution_count": 4,
   "metadata": {},
   "outputs": [],
   "source": [
    "# Defining a signature function\n",
    "def locate_card(cards, query):\n",
    "    pass\n"
   ]
  },
  {
   "cell_type": "code",
   "execution_count": 2,
   "metadata": {},
   "outputs": [
    {
     "name": "stdout",
     "output_type": "stream",
     "text": [
      "3\n"
     ]
    }
   ],
   "source": [
    "## Come up with example inputs and outputs. Try to cover all edge cases.\n",
    "\n",
    "cards = [13, 11, 10, 7, 4, 3, 1, 0]\n",
    "query = 7\n",
    "output = 3\n",
    "print(output)\n"
   ]
  },
  {
   "cell_type": "code",
   "execution_count": 5,
   "metadata": {},
   "outputs": [
    {
     "name": "stdout",
     "output_type": "stream",
     "text": [
      "None\n"
     ]
    }
   ],
   "source": [
    "result = locate_card(cards, query)\n",
    "print(result)\n"
   ]
  },
  {
   "cell_type": "code",
   "execution_count": 6,
   "metadata": {},
   "outputs": [
    {
     "data": {
      "text/plain": [
       "False"
      ]
     },
     "execution_count": 6,
     "metadata": {},
     "output_type": "execute_result"
    }
   ],
   "source": [
    "result == output\n"
   ]
  },
  {
   "cell_type": "code",
   "execution_count": 7,
   "metadata": {},
   "outputs": [
    {
     "data": {
      "text/plain": [
       "False"
      ]
     },
     "execution_count": 7,
     "metadata": {},
     "output_type": "execute_result"
    }
   ],
   "source": [
    "# Represent test cases in form of dictionaries\n",
    "\n",
    "test = {\"input\": {\"cards\": [13, 11, 10, 7, 4, 3, 1, 0], \"query\": 7}, \"output\": 3}\n",
    "\n",
    "# The function can now be tested as follows.\n",
    "locate_card(**test[\"input\"]) == test[\"output\"]\n"
   ]
  },
  {
   "cell_type": "markdown",
   "metadata": {},
   "source": [
    "#### List of test cases\n",
    "1. The number `query` occurs somewhere in the middle of the list `cards`.\n",
    "2. `query` is the first element in `cards`.\n",
    "3. `query` is the last element in `cards`.\n",
    "4. `cards` contains just one element `query`.\n",
    "5. `cards` does not contain number `query`.\n",
    "6. `cards` is empty.\n",
    "7. `cards` contains repeating numbers.\n",
    "8. `query` occurs at more than one position in `cards`."
   ]
  },
  {
   "cell_type": "code",
   "execution_count": 8,
   "metadata": {},
   "outputs": [],
   "source": [
    "tests = []\n",
    "\n",
    "# query occurs somewhere in the middle of the list cards.\n",
    "tests.append({\"input\": {\"cards\": [13, 11, 10, 7, 4, 3, 1, 0], \"query\": 1}, \"output\": 6})\n"
   ]
  },
  {
   "cell_type": "code",
   "execution_count": 9,
   "metadata": {},
   "outputs": [],
   "source": [
    "# query is the first element\n",
    "tests.append({\"input\": {\"cards\": [4, 2, 1, -1], \"query\": 4}, \"output\": 0})\n"
   ]
  },
  {
   "cell_type": "code",
   "execution_count": 10,
   "metadata": {},
   "outputs": [],
   "source": [
    "# query is the first element\n",
    "tests.append({\"input\": {\"cards\": [3, -1, -9, -127], \"query\": -127}, \"output\": 3})\n"
   ]
  },
  {
   "cell_type": "code",
   "execution_count": 11,
   "metadata": {},
   "outputs": [],
   "source": [
    "# query is the only element in cards\n",
    "tests.append({\"input\": {\"cards\": [4], \"query\": 4}, \"output\": 0})\n"
   ]
  },
  {
   "cell_type": "code",
   "execution_count": 12,
   "metadata": {},
   "outputs": [],
   "source": [
    "# We will assume that our function will return -1 in case cards does not contain query\n",
    "# cards does not contain query\n",
    "tests.append(\n",
    "    {\n",
    "        \"input\": {\"cards\": [9, 8, 7, 6, 5, 4, 3, 2, 1, 0, -1, -2, -3, -4], \"query\": 7},\n",
    "        \"output\": -1,\n",
    "    }\n",
    ")\n"
   ]
  },
  {
   "cell_type": "code",
   "execution_count": 13,
   "metadata": {},
   "outputs": [],
   "source": [
    "# cards is empty\n",
    "tests.append({\"input\": {\"cards\": [], \"query\": 4}, \"output\": -1})\n"
   ]
  },
  {
   "cell_type": "code",
   "execution_count": 15,
   "metadata": {},
   "outputs": [],
   "source": [
    "# numbers can repeat in cards (expect our function to return first occurrence of the query)\n",
    "tests.append(\n",
    "    {\n",
    "        \"input\": {\"cards\": [8, 8, 8, 6, 6, 6, 6, 3, 3, 3, 2, 2, 1], \"query\": 3},\n",
    "        \"output\": 7,\n",
    "    }\n",
    ")\n"
   ]
  },
  {
   "cell_type": "code",
   "execution_count": 17,
   "metadata": {},
   "outputs": [
    {
     "data": {
      "text/plain": [
       "[{'input': {'cards': [13, 11, 10, 7, 4, 3, 1, 0], 'query': 1}, 'output': 6},\n",
       " {'input': {'cards': [4, 2, 1, -1], 'query': 4}, 'output': 0},\n",
       " {'input': {'cards': [3, -1, -9, -127], 'query': -127}, 'output': 3},\n",
       " {'input': {'cards': [4], 'query': 4}, 'output': 0},\n",
       " {'input': {'cards': [4, 3, 2, 1, 0], 'query': 7}, 'output': -1},\n",
       " {'input': {'cards': [], 'query': 4}, 'output': -1},\n",
       " {'input': {'cards': [8, 8, 8, 6, 6, 6, 6, 3, 3, 3, 2, 2, 1], 'query': 3},\n",
       "  'output': 7},\n",
       " {'input': {'cards': [8, 8, 8, 6, 6, 6, 6, 3, 3, 3, 2, 2, 1], 'query': 3},\n",
       "  'output': 7}]"
      ]
     },
     "execution_count": 17,
     "metadata": {},
     "output_type": "execute_result"
    }
   ],
   "source": [
    "# List of test cases\n",
    "tests"
   ]
  },
  {
   "cell_type": "code",
   "execution_count": null,
   "metadata": {},
   "outputs": [],
   "source": []
  }
 ],
 "metadata": {
  "interpreter": {
   "hash": "8814a66d0c6ee5091186364dc57e3b89f0babd2556ec5a82c2d35416ef196c23"
  },
  "kernelspec": {
   "display_name": "Python 3.8.12 ('airflow')",
   "language": "python",
   "name": "python3"
  },
  "language_info": {
   "codemirror_mode": {
    "name": "ipython",
    "version": 3
   },
   "file_extension": ".py",
   "mimetype": "text/x-python",
   "name": "python",
   "nbconvert_exporter": "python",
   "pygments_lexer": "ipython3",
   "version": "3.8.12"
  },
  "orig_nbformat": 4
 },
 "nbformat": 4,
 "nbformat_minor": 2
}
